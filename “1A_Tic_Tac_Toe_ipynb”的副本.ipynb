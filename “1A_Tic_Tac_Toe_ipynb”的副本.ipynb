{
  "nbformat": 4,
  "nbformat_minor": 0,
  "metadata": {
    "colab": {
      "provenance": [],
      "include_colab_link": true
    },
    "kernelspec": {
      "name": "python3",
      "display_name": "Python 3"
    },
    "language_info": {
      "name": "python"
    }
  },
  "cells": [
    {
      "cell_type": "markdown",
      "metadata": {
        "id": "view-in-github",
        "colab_type": "text"
      },
      "source": [
        "<a href=\"https://colab.research.google.com/github/xpTianLZJT/AI/blob/main/%E2%80%9C1A_Tic_Tac_Toe_ipynb%E2%80%9D%E7%9A%84%E5%89%AF%E6%9C%AC.ipynb\" target=\"_parent\"><img src=\"https://colab.research.google.com/assets/colab-badge.svg\" alt=\"Open In Colab\"/></a>"
      ]
    },
    {
      "cell_type": "code",
      "execution_count": null,
      "metadata": {
        "colab": {
          "base_uri": "https://localhost:8080/"
        },
        "id": "j1tVeiWlD9Qk",
        "outputId": "85f8ba8d-4e5a-4d7b-ef31-ae4f3e141793"
      },
      "outputs": [
        {
          "output_type": "stream",
          "name": "stdout",
          "text": [
            "Collecting pulp\n",
            "  Downloading PuLP-2.8.0-py3-none-any.whl (17.7 MB)\n",
            "\u001b[2K     \u001b[90m━━━━━━━━━━━━━━━━━━━━━━━━━━━━━━━━━━━━━━━━\u001b[0m \u001b[32m17.7/17.7 MB\u001b[0m \u001b[31m55.3 MB/s\u001b[0m eta \u001b[36m0:00:00\u001b[0m\n",
            "\u001b[?25hInstalling collected packages: pulp\n",
            "Successfully installed pulp-2.8.0\n"
          ]
        }
      ],
      "source": [
        "!pip install pulp\n"
      ]
    },
    {
      "cell_type": "code",
      "source": [
        "import pulp\n",
        "\n",
        "# Create a new LP problem\n",
        "model = pulp.LpProblem(\"Tic-Tac-Toe\", pulp.LpMaximize)\n",
        "\n",
        "# Defining the variables (for simplicity, we consider only a few cells and one turn)\n",
        "x_11 = pulp.LpVariable('x_11', cat='Binary')\n",
        "x_12 = pulp.LpVariable('x_12', cat='Binary')\n",
        "x_13 = pulp.LpVariable('x_13', cat='Binary')\n",
        "\n",
        "# Define the current state of the board (for example, let's assume these are already filled)\n",
        "# In a real scenario, these would be parameters, not variables\n",
        "o_11 = 0  # Cell (1,1) is empty\n",
        "o_12 = 1  # Cell (1,2) is filled by O\n",
        "o_13 = 0  # Cell (1,3) is empty\n",
        "\n",
        "# Objective Function\n",
        "# For simplicity, we'll assume Player X wants to maximize their presence on the board\n",
        "model += x_11 + x_12 + x_13\n",
        "\n",
        "# Constraints\n",
        "# For this example, let's add a simple constraint that only one cell can be marked by X\n",
        "model += x_11 + x_12 + x_13 <= 1\n",
        "\n",
        "# Existing state constraints (these cells are already filled by O, so X can't mark them)\n",
        "model += x_12 == 0\n",
        "\n",
        "# Solve the model\n",
        "model.solve()\n",
        "\n",
        "# Output the results\n",
        "for v in model.variables():\n",
        "    print(v.name, \"=\", v.varValue)\n",
        "\n",
        "print(\"Status:\", pulp.LpStatus[model.status])\n"
      ],
      "metadata": {
        "colab": {
          "base_uri": "https://localhost:8080/"
        },
        "id": "ki83oDr8EDLm",
        "outputId": "7e04e35a-87e1-4f0d-800e-0a4fe08399c0"
      },
      "execution_count": null,
      "outputs": [
        {
          "output_type": "stream",
          "name": "stdout",
          "text": [
            "x_11 = 1.0\n",
            "x_12 = 0.0\n",
            "x_13 = 0.0\n",
            "Status: Optimal\n"
          ]
        }
      ]
    },
    {
      "cell_type": "markdown",
      "source": [
        "Updated Python Code with Time Index and Opponent Variables:"
      ],
      "metadata": {
        "id": "mrQJrSyZEqdL"
      }
    },
    {
      "cell_type": "code",
      "source": [
        "import pulp\n",
        "\n",
        "# Time steps\n",
        "T = 4  # For example, we are looking at the 5th move\n",
        "\n",
        "# Create a new LP problem\n",
        "model = pulp.LpProblem(\"Tic-Tac-Toe-Time-Indexed\", pulp.LpMaximize)\n",
        "\n",
        "# Defining the variables with time index for both players X and O\n",
        "x = pulp.LpVariable.dicts(\"x\", [(i, j, t) for i in range(1, 4) for j in range(1, 4) for t in range(1, T + 1)], cat='Binary')\n",
        "o = pulp.LpVariable.dicts(\"o\", [(i, j, t) for i in range(1, 4) for j in range(1, 4) for t in range(1, T + 1)], cat='Binary')\n",
        "\n",
        "# Example current state at t-1 (turn 4)\n",
        "# Let's assume some cells are already marked by X and O\n",
        "# These would typically come from the actual game state\n",
        "current_state_x = {\n",
        "    (1, 1, 1): 1, (1, 2, 1): 0, (1, 3, 1): 0,\n",
        "    (2, 1, 1): 0, (2, 2, 1): 0, (2, 3, 1): 0,\n",
        "    (3, 1, 1): 0, (3, 2, 1): 0, (3, 3, 1): 0,\n",
        "    # ... continue for each cell and time up to t-1\n",
        "}\n",
        "\n",
        "current_state_o = {\n",
        "    (1, 1, 1): 0, (1, 2, 1): 0, (1, 3, 1): 0,\n",
        "    (2, 1, 1): 0, (2, 2, 1): 1, (2, 3, 1): 0,\n",
        "    (3, 1, 1): 0, (3, 2, 1): 0, (3, 3, 1): 0,\n",
        "    # ... continue for each cell and time up to t-1\n",
        "}\n",
        "\n",
        "# Applying the current state to our variables\n",
        "for cell, marked in current_state_x.items():\n",
        "    if marked:\n",
        "        model += x[cell] == 1\n",
        "        model += o[cell] == 0\n",
        "    else:\n",
        "        model += x[cell] + o[cell] <= 1  # Cell can't be marked by both players\n",
        "\n",
        "for cell, marked in current_state_o.items():\n",
        "    if marked:\n",
        "        model += x[cell] == 0\n",
        "        model += o[cell] == 1\n",
        "    else:\n",
        "        model += x[cell] + o[cell] <= 1  # Cell can't be marked by both players\n",
        "\n",
        "# Objective Function\n",
        "# Assuming Player X wants to maximize their presence on the board at time T\n",
        "model += pulp.lpSum([x[i, j, T] for i in range(1, 4) for j in range(1, 4)])\n",
        "\n",
        "# Constraints\n",
        "# Only one mark per player per turn\n",
        "for t in range(2, T + 1):\n",
        "  model += pulp.lpSum([x[i, j, t] for i in range(1, 4) for j in range(1, 4)]) == 1\n",
        "  model += pulp.lpSum([o[i, j, t] for i in range(1, 4) for j in range(1, 4)]) == 1\n",
        "\n",
        "for i in range(1,4):\n",
        "  for j in range(1,4):\n",
        "    model += pulp.lpSum([x[i, j, t]+o[i, j, t] for t in range(1, T + 1)]) <= 1\n",
        "\n",
        "# Solve the model\n",
        "model.solve()\n",
        "\n",
        "# Output the results\n",
        "for t in range(1, T + 1):\n",
        "    print(f\"Turn {t}:\")\n",
        "    for i in range(1, 4):\n",
        "        for j in range(1, 4):\n",
        "            print(f\"Cell ({i}, {j}): X = {x[i, j, t].varValue}, O = {o[i, j, t].varValue}\")\n",
        "    print(\"\")\n",
        "\n",
        "print(\"Status:\", pulp.LpStatus[model.status])\n"
      ],
      "metadata": {
        "colab": {
          "base_uri": "https://localhost:8080/"
        },
        "id": "mLr_ga0wEqRH",
        "outputId": "157e6545-ffd9-4319-f568-78dc93d16833"
      },
      "execution_count": null,
      "outputs": [
        {
          "output_type": "stream",
          "name": "stdout",
          "text": [
            "Turn 1:\n",
            "Cell (1, 1): X = 1.0, O = 0.0\n",
            "Cell (1, 2): X = 0.0, O = 0.0\n",
            "Cell (1, 3): X = 0.0, O = 0.0\n",
            "Cell (2, 1): X = 0.0, O = 0.0\n",
            "Cell (2, 2): X = 0.0, O = 1.0\n",
            "Cell (2, 3): X = 0.0, O = 0.0\n",
            "Cell (3, 1): X = 0.0, O = 0.0\n",
            "Cell (3, 2): X = 0.0, O = 0.0\n",
            "Cell (3, 3): X = 0.0, O = 0.0\n",
            "\n",
            "Turn 2:\n",
            "Cell (1, 1): X = 0.0, O = 0.0\n",
            "Cell (1, 2): X = 0.0, O = 0.0\n",
            "Cell (1, 3): X = 0.0, O = 0.0\n",
            "Cell (2, 1): X = 0.0, O = 1.0\n",
            "Cell (2, 2): X = 0.0, O = 0.0\n",
            "Cell (2, 3): X = 0.0, O = 0.0\n",
            "Cell (3, 1): X = 1.0, O = 0.0\n",
            "Cell (3, 2): X = 0.0, O = 0.0\n",
            "Cell (3, 3): X = 0.0, O = 0.0\n",
            "\n",
            "Turn 3:\n",
            "Cell (1, 1): X = 0.0, O = 0.0\n",
            "Cell (1, 2): X = 0.0, O = 0.0\n",
            "Cell (1, 3): X = 1.0, O = 0.0\n",
            "Cell (2, 1): X = 0.0, O = 0.0\n",
            "Cell (2, 2): X = 0.0, O = 0.0\n",
            "Cell (2, 3): X = 0.0, O = 0.0\n",
            "Cell (3, 1): X = 0.0, O = 0.0\n",
            "Cell (3, 2): X = 0.0, O = 1.0\n",
            "Cell (3, 3): X = 0.0, O = 0.0\n",
            "\n",
            "Turn 4:\n",
            "Cell (1, 1): X = 0.0, O = 0.0\n",
            "Cell (1, 2): X = 1.0, O = 0.0\n",
            "Cell (1, 3): X = 0.0, O = 0.0\n",
            "Cell (2, 1): X = 0.0, O = 0.0\n",
            "Cell (2, 2): X = 0.0, O = 0.0\n",
            "Cell (2, 3): X = 0.0, O = 0.0\n",
            "Cell (3, 1): X = 0.0, O = 0.0\n",
            "Cell (3, 2): X = 0.0, O = 0.0\n",
            "Cell (3, 3): X = 0.0, O = 1.0\n",
            "\n",
            "Status: Optimal\n"
          ]
        }
      ]
    },
    {
      "cell_type": "code",
      "source": [],
      "metadata": {
        "id": "JNP4lcHTEo4a"
      },
      "execution_count": null,
      "outputs": []
    }
  ]
}