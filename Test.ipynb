{
  "nbformat": 4,
  "nbformat_minor": 0,
  "metadata": {
    "colab": {
      "provenance": [],
      "authorship_tag": "ABX9TyOPvcQ4NRlasYDgCBKA+Ppf",
      "include_colab_link": true
    },
    "kernelspec": {
      "name": "python3",
      "display_name": "Python 3"
    },
    "language_info": {
      "name": "python"
    }
  },
  "cells": [
    {
      "cell_type": "markdown",
      "metadata": {
        "id": "view-in-github",
        "colab_type": "text"
      },
      "source": [
        "<a href=\"https://colab.research.google.com/github/xpTianLZJT/AI/blob/main/Test.ipynb\" target=\"_parent\"><img src=\"https://colab.research.google.com/assets/colab-badge.svg\" alt=\"Open In Colab\"/></a>"
      ]
    },
    {
      "cell_type": "code",
      "execution_count": 1,
      "metadata": {
        "colab": {
          "base_uri": "https://localhost:8080/"
        },
        "id": "tIoUMzD2XXVQ",
        "outputId": "588838e7-adcb-4d15-91ce-a21ff2aaa17b"
      },
      "outputs": [
        {
          "output_type": "stream",
          "name": "stdout",
          "text": [
            "2\n"
          ]
        }
      ],
      "source": [
        "x=1\n",
        "y=1\n",
        "print(x+y)"
      ]
    },
    {
      "cell_type": "markdown",
      "source": [
        "# What is AI?\n",
        "\n",
        "AI stands for **Artificial Intelligence**. It refers to the simulation of human intelligence in machines that are programmed to think, learn, and perform tasks that typically require human intelligence. These tasks include problem-solving, understanding natural language, recognizing patterns, speech recognition, visual perception, and decision-making.\n",
        "\n",
        "AI can be categorized into two main types:\n",
        "\n",
        "1. **Narrow AI (Weak AI):** This type of AI is designed and trained for a particular task. It excels in that specific area but lacks the ability to generalize its intelligence to other domains. Most of the AI applications that we encounter today, such as virtual assistants, image recognition, and recommendation systems, fall under narrow AI.\n",
        "\n",
        "2. **General AI (Strong AI):** This is a more advanced form of AI that possesses the ability to understand, learn, and apply knowledge across a broad range of tasks, similar to human intelligence. General AI is still largely theoretical and does not yet exist in practical terms.\n",
        "\n",
        "AI applications are widespread and continue to grow in various fields, including healthcare, finance, education, transportation, and more. Machine learning, a subset of AI, involves the use of algorithms and statistical models to enable systems to improve their performance on a specific task over time. Deep learning, a subfield of machine learning, utilizes neural networks with multiple layers to model and solve complex problems.\n"
      ],
      "metadata": {
        "id": "Ulvdo4RHXj6x"
      }
    }
  ]
}