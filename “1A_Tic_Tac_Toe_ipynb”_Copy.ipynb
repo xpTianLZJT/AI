{
  "nbformat": 4,
  "nbformat_minor": 0,
  "metadata": {
    "colab": {
      "provenance": [],
      "include_colab_link": true
    },
    "kernelspec": {
      "name": "python3",
      "display_name": "Python 3"
    },
    "language_info": {
      "name": "python"
    }
  },
  "cells": [
    {
      "cell_type": "markdown",
      "metadata": {
        "id": "view-in-github",
        "colab_type": "text"
      },
      "source": [
        "<a href=\"https://colab.research.google.com/github/xpTianLZJT/AI/blob/main/%E2%80%9C1A_Tic_Tac_Toe_ipynb%E2%80%9D_Copy.ipynb\" target=\"_parent\"><img src=\"https://colab.research.google.com/assets/colab-badge.svg\" alt=\"Open In Colab\"/></a>"
      ]
    },
    {
      "cell_type": "code",
      "execution_count": null,
      "metadata": {
        "colab": {
          "base_uri": "https://localhost:8080/"
        },
        "id": "j1tVeiWlD9Qk",
        "outputId": "85f8ba8d-4e5a-4d7b-ef31-ae4f3e141793"
      },
      "outputs": [
        {
          "output_type": "stream",
          "name": "stdout",
          "text": [
            "Collecting pulp\n",
            "  Downloading PuLP-2.8.0-py3-none-any.whl (17.7 MB)\n",
            "\u001b[2K     \u001b[90m━━━━━━━━━━━━━━━━━━━━━━━━━━━━━━━━━━━━━━━━\u001b[0m \u001b[32m17.7/17.7 MB\u001b[0m \u001b[31m55.3 MB/s\u001b[0m eta \u001b[36m0:00:00\u001b[0m\n",
            "\u001b[?25hInstalling collected packages: pulp\n",
            "Successfully installed pulp-2.8.0\n"
          ]
        }
      ],
      "source": [
        "!pip install pulp\n"
      ]
    },
    {
      "cell_type": "code",
      "source": [
        "import pulp\n",
        "\n",
        "# Create a new LP problem\n",
        "model = pulp.LpProblem(\"Tic-Tac-Toe\", pulp.LpMaximize)\n",
        "\n",
        "# Defining the variables (for simplicity, we consider only a few cells and one turn)\n",
        "x_11 = pulp.LpVariable('x_11', cat='Binary')\n",
        "x_12 = pulp.LpVariable('x_12', cat='Binary')\n",
        "x_13 = pulp.LpVariable('x_13', cat='Binary')\n",
        "\n",
        "# Define the current state of the board (for example, let's assume these are already filled)\n",
        "# In a real scenario, these would be parameters, not variables\n",
        "o_11 = 0  # Cell (1,1) is empty\n",
        "o_12 = 1  # Cell (1,2) is filled by O\n",
        "o_13 = 0  # Cell (1,3) is empty\n",
        "\n",
        "# Objective Function\n",
        "# For simplicity, we'll assume Player X wants to maximize their presence on the board\n",
        "model += x_11 + x_12 + x_13\n",
        "\n",
        "# Constraints\n",
        "# For this example, let's add a simple constraint that only one cell can be marked by X\n",
        "model += x_11 + x_12 + x_13 <= 1\n",
        "\n",
        "# Existing state constraints (these cells are already filled by O, so X can't mark them)\n",
        "model += x_12 == 0\n",
        "\n",
        "# Solve the model\n",
        "model.solve()\n",
        "\n",
        "# Output the results\n",
        "for v in model.variables():\n",
        "    print(v.name, \"=\", v.varValue)\n",
        "\n",
        "print(\"Status:\", pulp.LpStatus[model.status])\n"
      ],
      "metadata": {
        "colab": {
          "base_uri": "https://localhost:8080/"
        },
        "id": "ki83oDr8EDLm",
        "outputId": "7e04e35a-87e1-4f0d-800e-0a4fe08399c0"
      },
      "execution_count": null,
      "outputs": [
        {
          "output_type": "stream",
          "name": "stdout",
          "text": [
            "x_11 = 1.0\n",
            "x_12 = 0.0\n",
            "x_13 = 0.0\n",
            "Status: Optimal\n"
          ]
        }
      ]
    },
    {
      "cell_type": "markdown",
      "source": [
        "Updated Python Code with Time Index and Opponent Variables:"
      ],
      "metadata": {
        "id": "mrQJrSyZEqdL"
      }
    },
    {
      "cell_type": "code",
      "source": [
        "import pulp\n",
        "\n",
        "# Time steps\n",
        "T = 4  # For example, we are looking at the 5th move\n",
        "\n",
        "# Create a new LP problem\n",
        "model = pulp.LpProblem(\"Tic-Tac-Toe-Time-Indexed\", pulp.LpMaximize)\n",
        "\n",
        "# Defining the variables with time index for both players X and O\n",
        "x = pulp.LpVariable.dicts(\"x\", [(i, j, t) for i in range(1, 4) for j in range(1, 4) for t in range(1, T + 1)], cat='Binary')\n",
        "o = pulp.LpVariable.dicts(\"o\", [(i, j, t) for i in range(1, 4) for j in range(1, 4) for t in range(1, T + 1)], cat='Binary')\n",
        "\n",
        "# Example current state at t-1 (turn 4)\n",
        "# Let's assume some cells are already marked by X and O\n",
        "# These would typically come from the actual game state\n",
        "current_state_x = {\n",
        "    (1, 1, 1): 1, (1, 2, 1): 0, (1, 3, 1): 0,\n",
        "    (2, 1, 1): 0, (2, 2, 1): 0, (2, 3, 1): 0,\n",
        "    (3, 1, 1): 0, (3, 2, 1): 0, (3, 3, 1): 0,\n",
        "    # ... continue for each cell and time up to t-1\n",
        "}\n",
        "# dictionary 'current_state_x' is the current state of player x\n",
        "\n",
        "current_state_o = {\n",
        "    (1, 1, 1): 0, (1, 2, 1): 0, (1, 3, 1): 0,\n",
        "    (2, 1, 1): 0, (2, 2, 1): 1, (2, 3, 1): 0,\n",
        "    (3, 1, 1): 0, (3, 2, 1): 0, (3, 3, 1): 0,\n",
        "    # ... continue for each cell and time up to t-1\n",
        "}\n",
        "# dictionary 'current_state_o' is the current state of player o\n",
        "\n",
        "# Applying the current state to our variables\n",
        "for cell, marked in current_state_x.items():\n",
        "    if marked:\n",
        "        model += x[cell] == 1\n",
        "        model += o[cell] == 0\n",
        "    else:\n",
        "        model += x[cell] + o[cell] <= 1  # Cell can't be marked by both players\n",
        "\n",
        "for cell, marked in current_state_o.items():\n",
        "    if marked:\n",
        "        model += x[cell] == 0\n",
        "        model += o[cell] == 1\n",
        "    else:\n",
        "        model += x[cell] + o[cell] <= 1  # Cell can't be marked by both players\n",
        "\n",
        "# Objective Function\n",
        "# Assuming Player X wants to maximize their presence on the board at time T\n",
        "model += pulp.lpSum([x[i, j, T] for i in range(1, 4) for j in range(1, 4)])\n",
        "\n",
        "# Constraints\n",
        "# Only one mark per player per turn\n",
        "for t in range(2, T + 1):\n",
        "  model += pulp.lpSum([x[i, j, t] for i in range(1, 4) for j in range(1, 4)]) == 1  #Player x can only choose one cell in Turn t.\n",
        "  model += pulp.lpSum([o[i, j, t] for i in range(1, 4) for j in range(1, 4)]) == 1  #Player o can only choose one cell in Turn t.\n",
        "\n",
        "for i in range(1,4):\n",
        "  for j in range(1,4):\n",
        "    model += pulp.lpSum([x[i, j, t]+o[i, j, t] for t in range(1, T + 1)]) <= 1  #Each cell can be used at most once\n",
        "\n",
        "# Solve the model\n",
        "model.solve()\n",
        "\n",
        "# Output the results\n",
        "for t in range(1, T + 1):\n",
        "    print(f\"Turn {t}:\")\n",
        "    for i in range(1, 4):\n",
        "        for j in range(1, 4):\n",
        "            print(f\"Cell ({i}, {j}): X = {x[i, j, t].varValue}, O = {o[i, j, t].varValue}\")\n",
        "    print(\"\")\n",
        "\n",
        "print(\"Status:\", pulp.LpStatus[model.status])\n"
      ],
      "metadata": {
        "colab": {
          "base_uri": "https://localhost:8080/"
        },
        "id": "mLr_ga0wEqRH",
        "outputId": "157e6545-ffd9-4319-f568-78dc93d16833"
      },
      "execution_count": null,
      "outputs": [
        {
          "output_type": "stream",
          "name": "stdout",
          "text": [
            "Turn 1:\n",
            "Cell (1, 1): X = 1.0, O = 0.0\n",
            "Cell (1, 2): X = 0.0, O = 0.0\n",
            "Cell (1, 3): X = 0.0, O = 0.0\n",
            "Cell (2, 1): X = 0.0, O = 0.0\n",
            "Cell (2, 2): X = 0.0, O = 1.0\n",
            "Cell (2, 3): X = 0.0, O = 0.0\n",
            "Cell (3, 1): X = 0.0, O = 0.0\n",
            "Cell (3, 2): X = 0.0, O = 0.0\n",
            "Cell (3, 3): X = 0.0, O = 0.0\n",
            "\n",
            "Turn 2:\n",
            "Cell (1, 1): X = 0.0, O = 0.0\n",
            "Cell (1, 2): X = 0.0, O = 0.0\n",
            "Cell (1, 3): X = 0.0, O = 0.0\n",
            "Cell (2, 1): X = 0.0, O = 1.0\n",
            "Cell (2, 2): X = 0.0, O = 0.0\n",
            "Cell (2, 3): X = 0.0, O = 0.0\n",
            "Cell (3, 1): X = 1.0, O = 0.0\n",
            "Cell (3, 2): X = 0.0, O = 0.0\n",
            "Cell (3, 3): X = 0.0, O = 0.0\n",
            "\n",
            "Turn 3:\n",
            "Cell (1, 1): X = 0.0, O = 0.0\n",
            "Cell (1, 2): X = 0.0, O = 0.0\n",
            "Cell (1, 3): X = 1.0, O = 0.0\n",
            "Cell (2, 1): X = 0.0, O = 0.0\n",
            "Cell (2, 2): X = 0.0, O = 0.0\n",
            "Cell (2, 3): X = 0.0, O = 0.0\n",
            "Cell (3, 1): X = 0.0, O = 0.0\n",
            "Cell (3, 2): X = 0.0, O = 1.0\n",
            "Cell (3, 3): X = 0.0, O = 0.0\n",
            "\n",
            "Turn 4:\n",
            "Cell (1, 1): X = 0.0, O = 0.0\n",
            "Cell (1, 2): X = 1.0, O = 0.0\n",
            "Cell (1, 3): X = 0.0, O = 0.0\n",
            "Cell (2, 1): X = 0.0, O = 0.0\n",
            "Cell (2, 2): X = 0.0, O = 0.0\n",
            "Cell (2, 3): X = 0.0, O = 0.0\n",
            "Cell (3, 1): X = 0.0, O = 0.0\n",
            "Cell (3, 2): X = 0.0, O = 0.0\n",
            "Cell (3, 3): X = 0.0, O = 1.0\n",
            "\n",
            "Status: Optimal\n"
          ]
        }
      ]
    },
    {
      "cell_type": "markdown",
      "source": [
        "#1 Illustration for current state\n",
        "* dictionary 'current_state_x' is the current state of player x\n",
        "current_state_x = {\n",
        "    (1, 1, 1): 1, (1, 2, 1): 0, (1, 3, 1): 0,\n",
        "    (2, 1, 1): 0, (2, 2, 1): 0, (2, 3, 1): 0,\n",
        "    (3, 1, 1): 0, (3, 2, 1): 0, (3, 3, 1): 0,   \n",
        "}\n",
        "\n",
        "* dictionary 'current_state_o' is the current state of player o\n",
        "current_state_o = {\n",
        "    (1, 1, 1): 0, (1, 2, 1): 0, (1, 3, 1): 0,\n",
        "    (2, 1, 1): 0, (2, 2, 1): 1, (2, 3, 1): 0,\n",
        "    (3, 1, 1): 0, (3, 2, 1): 0, (3, 3, 1): 0,\n",
        "}\n",
        "\n",
        "* The corresponding picture:\n",
        "\n",
        "![1.png](data:image/png;base64,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)\n"
      ],
      "metadata": {
        "id": "cLum7iIJf4G5"
      }
    },
    {
      "cell_type": "markdown",
      "source": [],
      "metadata": {
        "id": "c0W6n0ZCheAP"
      }
    },
    {
      "cell_type": "code",
      "source": [],
      "metadata": {
        "id": "JNP4lcHTEo4a"
      },
      "execution_count": null,
      "outputs": []
    }
  ]
}